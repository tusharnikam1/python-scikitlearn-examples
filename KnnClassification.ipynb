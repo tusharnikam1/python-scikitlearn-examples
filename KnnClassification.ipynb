{
 "cells": [
  {
   "cell_type": "code",
   "execution_count": 51,
   "metadata": {
    "scrolled": true
   },
   "outputs": [
    {
     "name": "stdout",
     "output_type": "stream",
     "text": [
      "0.19776714513556617\n",
      "[[ 0  4  1  0  0  0  0  0  0  0  0  0  0  0  0  0  0  0  0  0  0  0  0  0]\n",
      " [ 3  3  9  0  2  0  0  0  0  0  0  0  0  0  0  0  0  0  0  0  0  0  0  0]\n",
      " [ 1  5  3 10  4  1  0  1  0  0  0  0  0  0  0  0  0  0  0  0  0  0  0  0]\n",
      " [ 1  8 16 28 30  5  2  1  1  0  0  0  0  0  0  0  0  0  0  0  0  0  0  0]\n",
      " [ 2  0  8 17 41 24 12  5  0  0  0  0  0  0  0  0  0  0  0  0  0  0  0  0]\n",
      " [ 0  2  4 16 38 50 39 19  2  2  2  0  0  0  0  0  0  0  0  0  0  0  0  0]\n",
      " [ 0  0  1  3 21 54 54 33 19  2  3  1  0  0  0  0  0  0  0  0  0  0  0  0]\n",
      " [ 0  1  0  2 16 44 50 39 17  6  3  0  0  0  0  1  0  0  0  0  0  0  0  0]\n",
      " [ 0  0  0  3  8 28 49 45 23  5  3  0  2  0  0  0  0  0  0  0  0  0  0  0]\n",
      " [ 0  0  0  0  5 12 18 13 15  2  1  0  0  0  0  0  0  0  0  0  0  0  0  0]\n",
      " [ 0  0  0  1  3  7 14 14 11  8  3  3  0  0  0  0  0  0  0  0  0  0  0  0]\n",
      " [ 0  0  0  0  2  2 11  8  6  5  4  0  1  0  0  0  0  0  0  0  0  0  0  0]\n",
      " [ 0  0  0  1  1  4  9  7  8  2  3  1  0  1  0  1  0  0  0  0  0  0  0  0]\n",
      " [ 0  0  0  0  2  3  3  8  5  1  1  1  0  1  0  0  0  0  0  0  0  0  0  0]\n",
      " [ 0  0  0  0  0  2  3  2  2  3  1  2  1  1  1  0  0  0  0  0  0  0  0  0]\n",
      " [ 0  0  0  0  0  1  4  4  0  3  0  1  0  0  0  0  0  0  0  0  0  0  0  0]\n",
      " [ 0  0  0  0  0  0  3  3  0  0  2  1  0  1  0  0  0  0  0  0  0  0  0  0]\n",
      " [ 0  0  0  0  0  0  1  3  1  2  2  0  1  0  1  0  0  0  0  0  0  0  0  0]\n",
      " [ 0  0  0  0  0  0  0  1  0  0  0  0  0  0  0  0  0  0  0  0  0  0  0  0]\n",
      " [ 0  0  0  0  0  0  0  0  1  0  0  0  0  0  1  0  0  0  0  0  0  0  0  0]\n",
      " [ 0  0  0  0  0  0  2  2  1  0  0  0  0  0  0  0  0  0  0  0  0  0  0  0]\n",
      " [ 0  0  0  0  0  0  0  1  0  0  0  0  0  0  0  0  0  0  0  0  0  0  0  0]\n",
      " [ 0  0  0  0  0  0  0  0  0  0  1  0  0  0  0  0  0  0  0  0  0  0  0  0]\n",
      " [ 0  0  0  0  0  0  0  0  0  0  1  1  0  0  0  0  0  0  0  0  0  0  0  0]]\n",
      "              precision    recall  f1-score   support\n",
      "\n",
      "         3.0       0.00      0.00      0.00         5\n",
      "         4.0       0.13      0.18      0.15        17\n",
      "         5.0       0.07      0.12      0.09        25\n",
      "         6.0       0.35      0.30      0.32        92\n",
      "         7.0       0.24      0.38      0.29       109\n",
      "         8.0       0.21      0.29      0.24       174\n",
      "         9.0       0.20      0.28      0.23       191\n",
      "        10.0       0.19      0.22      0.20       179\n",
      "        11.0       0.21      0.14      0.17       166\n",
      "        12.0       0.05      0.03      0.04        66\n",
      "        13.0       0.10      0.05      0.06        64\n",
      "        14.0       0.00      0.00      0.00        39\n",
      "        15.0       0.00      0.00      0.00        38\n",
      "        16.0       0.25      0.04      0.07        25\n",
      "        17.0       0.33      0.06      0.10        18\n",
      "        18.0       0.00      0.00      0.00        13\n",
      "        19.0       0.00      0.00      0.00        10\n",
      "        20.0       0.00      0.00      0.00        11\n",
      "        21.0       0.00      0.00      0.00         1\n",
      "        22.0       0.00      0.00      0.00         2\n",
      "        23.0       0.00      0.00      0.00         5\n",
      "        24.0       0.00      0.00      0.00         1\n",
      "        25.0       0.00      0.00      0.00         1\n",
      "        27.0       0.00      0.00      0.00         2\n",
      "\n",
      "   micro avg       0.20      0.20      0.20      1254\n",
      "   macro avg       0.10      0.09      0.08      1254\n",
      "weighted avg       0.18      0.20      0.18      1254\n",
      "\n"
     ]
    },
    {
     "name": "stderr",
     "output_type": "stream",
     "text": [
      "c:\\users\\tushar.nikam\\appdata\\local\\programs\\python\\python37-32\\lib\\site-packages\\sklearn\\metrics\\classification.py:1143: UndefinedMetricWarning: Precision and F-score are ill-defined and being set to 0.0 in labels with no predicted samples.\n",
      "  'precision', 'predicted', average, warn_for)\n"
     ]
    }
   ],
   "source": [
    "import pandas as pd;\n",
    "from sklearn import model_selection\n",
    "from sklearn.neighbors import KNeighborsClassifier\n",
    "from sklearn import preprocessing\n",
    "from sklearn.metrics import classification_report\n",
    "from sklearn.metrics import confusion_matrix\n",
    "from sklearn.metrics import accuracy_score\n",
    "\n",
    "data = pd.read_csv('https://archive.ics.uci.edu/ml/machine-learning-databases/abalone/abalone.data', names = [\"Sex\", \"Length\", \"Diameter\", \"Height\", \"Whole weight\", \"Shucked weight\",\"Viscera weight\", \"Shell weight\", \"Rings\"])\n",
    "\n",
    "\n",
    "# le = preprocessing.LabelEncoder();\n",
    "data['Sex'] = le.fit_transform(data.values[:, 0])\n",
    "\n",
    "X = data.values[:,0:8]\n",
    "Y = data.values[:,8]\n",
    "\n",
    "X_train, X_validation, Y_train, Y_validation = model_selection.train_test_split(X, Y, test_size=0.30, random_state=7)\n",
    "\n",
    "knn = KNeighborsClassifier(n_neighbors=3)\n",
    "\n",
    "knn.fit(X_train, Y_train)\n",
    "\n",
    "predictions = knn.predict(X_validation)\n",
    "\n",
    "print(accuracy_score(Y_validation, predictions))\n",
    "print(confusion_matrix(Y_validation, predictions))\n",
    "print(classification_report(Y_validation, predictions))\n"
   ]
  },
  {
   "cell_type": "code",
   "execution_count": null,
   "metadata": {},
   "outputs": [],
   "source": []
  }
 ],
 "metadata": {
  "kernelspec": {
   "display_name": "Python 3",
   "language": "python",
   "name": "python3"
  },
  "language_info": {
   "codemirror_mode": {
    "name": "ipython",
    "version": 3
   },
   "file_extension": ".py",
   "mimetype": "text/x-python",
   "name": "python",
   "nbconvert_exporter": "python",
   "pygments_lexer": "ipython3",
   "version": "3.7.2"
  }
 },
 "nbformat": 4,
 "nbformat_minor": 2
}
